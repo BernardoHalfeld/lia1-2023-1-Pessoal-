{
  "nbformat": 4,
  "nbformat_minor": 0,
  "metadata": {
    "colab": {
      "provenance": [],
      "authorship_tag": "ABX9TyOjf/vV2mrI2p+tuQxKf+CW",
      "include_colab_link": true
    },
    "kernelspec": {
      "name": "python3",
      "display_name": "Python 3"
    },
    "language_info": {
      "name": "python"
    }
  },
  "cells": [
    {
      "cell_type": "markdown",
      "metadata": {
        "id": "view-in-github",
        "colab_type": "text"
      },
      "source": [
        "<a href=\"https://colab.research.google.com/github/BernardoHalfeld/lia1-2023-1-Pessoal-/blob/main/Aula8.ipynb\" target=\"_parent\"><img src=\"https://colab.research.google.com/assets/colab-badge.svg\" alt=\"Open In Colab\"/></a>"
      ]
    },
    {
      "cell_type": "code",
      "execution_count": null,
      "metadata": {
        "id": "I4_UhxCOkg4c"
      },
      "outputs": [],
      "source": [
        "!pip install -q gtts\n",
        "!pip install -q gTTS"
      ]
    },
    {
      "cell_type": "code",
      "source": [
        "#Biblioteca get text to speak\n",
        "from gtts import gTTS"
      ],
      "metadata": {
        "id": "i1BC8YBWkptQ"
      },
      "execution_count": null,
      "outputs": []
    },
    {
      "cell_type": "code",
      "source": [
        "fala_texto = \"Este texto será falado\"\n",
        "language = 'pt'\n",
        "gtts_obj = gTTS(text = fala_texto,\n",
        "                lang = language,\n",
        "                slow = False)\n",
        "gtts_obj.save(\"/content/gtts1_aula8.wav\")"
      ],
      "metadata": {
        "id": "MjX5QHLTlGeQ"
      },
      "execution_count": null,
      "outputs": []
    },
    {
      "cell_type": "code",
      "source": [
        "from IPython.display import Audio"
      ],
      "metadata": {
        "id": "26ZyOOa6l6nS"
      },
      "execution_count": null,
      "outputs": []
    },
    {
      "cell_type": "code",
      "source": [
        "Audio(\"/content/gtts1_aula8.wav\")"
      ],
      "metadata": {
        "colab": {
          "base_uri": "https://localhost:8080/",
          "height": 75
        },
        "id": "FANk9PvLmmv8",
        "outputId": "7874c322-d4e3-4f41-a0b0-b8c1261ade60"
      },
      "execution_count": null,
      "outputs": [
        {
          "output_type": "execute_result",
          "data": {
            "text/plain": [
              "<IPython.lib.display.Audio object>"
            ],
            "text/html": [
              "\n",
              "                <audio  controls=\"controls\" >\n",
              "                    <source src=\"data:audio/x-wav;base64,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\" type=\"audio/x-wav\" />\n",
              "                    Your browser does not support the audio element.\n",
              "                </audio>\n",
              "              "
            ]
          },
          "metadata": {},
          "execution_count": 21
        }
      ]
    },
    {
      "cell_type": "code",
      "source": [],
      "metadata": {
        "id": "f5QWQpv7myI7"
      },
      "execution_count": null,
      "outputs": []
    }
  ]
}
