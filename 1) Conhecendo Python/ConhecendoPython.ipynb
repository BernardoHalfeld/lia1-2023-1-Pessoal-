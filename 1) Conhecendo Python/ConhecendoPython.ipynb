{
  "cells": [
    {
      "cell_type": "markdown",
      "metadata": {
        "id": "view-in-github",
        "colab_type": "text"
      },
      "source": [
        "<a href=\"https://colab.research.google.com/github/BernardoHalfeld/lia1-2023-1-Pessoal-/blob/main/(1)ConhecendoPython.ipynb\" target=\"_parent\"><img src=\"https://colab.research.google.com/assets/colab-badge.svg\" alt=\"Open In Colab\"/></a>"
      ]
    },
    {
      "cell_type": "markdown",
      "id": "f9f862ca",
      "metadata": {
        "id": "f9f862ca"
      },
      "source": [
        "<hr style=\"height:10px\"> \n",
        " \n",
        "<div class='container2'>\n",
        "\t\t<div>\n",
        "\t\t\t<img src='ia.jpg' ALIGN='left' style='width:10em'>\n",
        "\t\t</div>\t\n",
        "\t<div style='padding: 0 7em 2em 12em;'>\n",
        "\t<h1>Laboratório de Inovação e Automação 1 (LIA 1)</h1>\n",
        "\t<div style=\"font-size:12pt;float:left;\"> 2023/1 | 46M34 | Sala 200 CAE</div><br><br>\n",
        "    <div style=\"font-size:12pt;float:left;\"><b>Projetos de Inteligência Artificial</b></div>\n",
        "\t</div>\n",
        "</div>\n",
        "\n",
        "\n",
        " <hr style=\"height:5px\"> \n",
        "\n",
        "    \n",
        "<h2>Introdução ao Ambiente de Projetos</h2>\n",
        "\n",
        "Notebook desenvolvido por: <a href=\"https://github.com/BernardoHalfeld\">Bernardo Halfeld </a>\n",
        "\n",
        " <hr style=\"height:2px\"> \n",
        " "
      ]
    },
    {
      "cell_type": "markdown",
      "id": "e2fe2ac6",
      "metadata": {
        "id": "e2fe2ac6"
      },
      "source": [
        "## Instalação da biblicoteca e verificação de versão Python"
      ]
    },
    {
      "cell_type": "code",
      "execution_count": null,
      "id": "6ffb9624",
      "metadata": {
        "id": "6ffb9624"
      },
      "outputs": [],
      "source": [
        "from platform import python_version\n",
        "print (f'A versão do python instalada é  {python_version()}.')"
      ]
    },
    {
      "cell_type": "code",
      "execution_count": null,
      "id": "772bb518",
      "metadata": {
        "id": "772bb518"
      },
      "outputs": [],
      "source": [
        "# VERIFICANDO PYTHON\n",
        "print('bye bye, World')"
      ]
    },
    {
      "cell_type": "markdown",
      "id": "e7d9e00c",
      "metadata": {
        "id": "e7d9e00c"
      },
      "source": [
        "## Operadores Aritméticos"
      ]
    },
    {
      "cell_type": "code",
      "execution_count": null,
      "id": "02745752",
      "metadata": {
        "id": "02745752"
      },
      "outputs": [],
      "source": [
        "# ADIÇÃO\n",
        "4 + 4"
      ]
    },
    {
      "cell_type": "code",
      "execution_count": null,
      "id": "98f3a9e5",
      "metadata": {
        "id": "98f3a9e5"
      },
      "outputs": [],
      "source": [
        "# SUBTRAÇÃO\n",
        "7 - 6"
      ]
    },
    {
      "cell_type": "code",
      "execution_count": null,
      "id": "3ac2a6e7",
      "metadata": {
        "id": "3ac2a6e7"
      },
      "outputs": [],
      "source": [
        "# MULTIPLICAÇÃO\n",
        "4 * 6"
      ]
    },
    {
      "cell_type": "code",
      "execution_count": null,
      "id": "b5ca71f3",
      "metadata": {
        "id": "b5ca71f3"
      },
      "outputs": [],
      "source": [
        "# DIVISÃO\n",
        "80 / 8"
      ]
    },
    {
      "cell_type": "code",
      "execution_count": null,
      "id": "2a393740",
      "metadata": {
        "id": "2a393740"
      },
      "outputs": [],
      "source": [
        "# POTÊNCIA\n",
        "5 ** 3"
      ]
    },
    {
      "cell_type": "code",
      "execution_count": null,
      "id": "c1f5dda6",
      "metadata": {
        "id": "c1f5dda6"
      },
      "outputs": [],
      "source": [
        "# MÓDULO\n",
        "12 % 5"
      ]
    },
    {
      "cell_type": "markdown",
      "id": "06d2910c",
      "metadata": {
        "id": "06d2910c"
      },
      "source": [
        "## Tipos de dados (Type)"
      ]
    },
    {
      "cell_type": "code",
      "execution_count": null,
      "id": "37d56305",
      "metadata": {
        "id": "37d56305"
      },
      "outputs": [],
      "source": [
        "# QUAL O TIPO - INTEIRO\n",
        "type(5)"
      ]
    },
    {
      "cell_type": "code",
      "execution_count": null,
      "id": "ea3f1878",
      "metadata": {
        "id": "ea3f1878"
      },
      "outputs": [],
      "source": [
        "# QUAL O TIPO - FLOAT (DECIMAL)\n",
        "type(5.0)"
      ]
    },
    {
      "cell_type": "code",
      "execution_count": null,
      "id": "c37068ea",
      "metadata": {
        "id": "c37068ea"
      },
      "outputs": [],
      "source": [
        "# QUAL O TIPO - STRING\n",
        "s = 'Estudando Python!'\n",
        "type(s)"
      ]
    },
    {
      "cell_type": "markdown",
      "id": "87abf0b6",
      "metadata": {
        "id": "87abf0b6"
      },
      "source": [
        "## Condicional if"
      ]
    },
    {
      "cell_type": "code",
      "execution_count": null,
      "id": "ca13f3fa",
      "metadata": {
        "id": "ca13f3fa"
      },
      "outputs": [],
      "source": [
        "# CONDICIONAL IF (SE)\n",
        "if 10 > 2:\n",
        "    print (\"Sentença verdadeira\")"
      ]
    },
    {
      "cell_type": "code",
      "execution_count": null,
      "id": "a221352e",
      "metadata": {
        "id": "a221352e"
      },
      "outputs": [],
      "source": [
        "# CONDICIONAL IF...ELSE (SE...SENÃO)\n",
        "if 10 < 2:\n",
        "    print ('Sentença verdadeira')\n",
        "else:\n",
        "    print ('Sentença falsa')"
      ]
    },
    {
      "cell_type": "code",
      "execution_count": null,
      "id": "0b71c9f7",
      "metadata": {
        "id": "0b71c9f7"
      },
      "outputs": [],
      "source": [
        "# CONDICIONAL IF...ELSE COM VARIÁVEL\n",
        "dia = 'quarta-feira'\n",
        "if dia != 'sexta-feira':\n",
        "    print ('Meio da semana :( ')\n",
        "else:\n",
        "    if dia == 'sexta-feira':\n",
        "        print ('Sextou :) ')"
      ]
    },
    {
      "cell_type": "markdown",
      "id": "3b8356c6",
      "metadata": {
        "id": "3b8356c6"
      },
      "source": [
        "## Manipulando arquivos"
      ]
    },
    {
      "cell_type": "markdown",
      "id": "842453a0",
      "metadata": {
        "id": "842453a0"
      },
      "source": [
        "* ####  Lendo arquivos (.txt)\n",
        "\n"
      ]
    },
    {
      "cell_type": "code",
      "execution_count": null,
      "id": "d18eaf38",
      "metadata": {
        "id": "d18eaf38"
      },
      "outputs": [],
      "source": [
        "# Abrindo arquivos para leitura\n",
        "arquivo_teste_leitura = open(\"arquivoteste.txt\", \"r\")"
      ]
    },
    {
      "cell_type": "code",
      "execution_count": null,
      "id": "4e92468b",
      "metadata": {
        "id": "4e92468b"
      },
      "outputs": [],
      "source": [
        "# Lendo o arquivo\n",
        "print(arquivo_teste_leitura.read())"
      ]
    },
    {
      "cell_type": "markdown",
      "id": "f0e7eaf2",
      "metadata": {
        "id": "f0e7eaf2"
      },
      "source": [
        "* #### Gravando arquivos\n"
      ]
    },
    {
      "cell_type": "code",
      "execution_count": null,
      "id": "5a763e06",
      "metadata": {
        "id": "5a763e06"
      },
      "outputs": [],
      "source": [
        "# Abrindo arquivo para gravação\n",
        "arquivo_teste_gravação = open(\"arquivoteste.txt\", \"w\")"
      ]
    },
    {
      "cell_type": "code",
      "execution_count": null,
      "id": "3319fe95",
      "metadata": {
        "id": "3319fe95"
      },
      "outputs": [],
      "source": [
        "# Gravando no arquivo\n",
        "arquivo_teste_gravação.write(\"Aprendendo Python !\")"
      ]
    },
    {
      "cell_type": "code",
      "execution_count": null,
      "id": "8c9e1f07",
      "metadata": {
        "id": "8c9e1f07"
      },
      "outputs": [],
      "source": [
        "# Abrindo arquivo para leitura\n",
        "arquivo_teste_gravação = open(\"arquivoteste.txt\", \"r\")"
      ]
    },
    {
      "cell_type": "code",
      "execution_count": null,
      "id": "12886699",
      "metadata": {
        "id": "12886699"
      },
      "outputs": [],
      "source": [
        "# Lendo o arquivo\n",
        "print(arquivo_teste_gravação.read())"
      ]
    },
    {
      "cell_type": "code",
      "execution_count": null,
      "id": "b8983d45",
      "metadata": {
        "id": "b8983d45"
      },
      "outputs": [],
      "source": []
    }
  ],
  "metadata": {
    "kernelspec": {
      "display_name": "Python 3 (ipykernel)",
      "language": "python",
      "name": "python3"
    },
    "language_info": {
      "codemirror_mode": {
        "name": "ipython",
        "version": 3
      },
      "file_extension": ".py",
      "mimetype": "text/x-python",
      "name": "python",
      "nbconvert_exporter": "python",
      "pygments_lexer": "ipython3",
      "version": "3.10.9"
    },
    "colab": {
      "provenance": [],
      "include_colab_link": true
    }
  },
  "nbformat": 4,
  "nbformat_minor": 5
}
